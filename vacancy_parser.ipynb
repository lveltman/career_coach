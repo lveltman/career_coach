{
  "metadata": {
    "kernelspec": {
      "language": "python",
      "display_name": "Python 3",
      "name": "python3"
    },
    "language_info": {
      "name": "python",
      "version": "3.11.13",
      "mimetype": "text/x-python",
      "codemirror_mode": {
        "name": "ipython",
        "version": 3
      },
      "pygments_lexer": "ipython3",
      "nbconvert_exporter": "python",
      "file_extension": ".py"
    },
    "kaggle": {
      "accelerator": "none",
      "dataSources": [],
      "dockerImageVersionId": 31089,
      "isInternetEnabled": true,
      "language": "python",
      "sourceType": "notebook",
      "isGpuEnabled": false
    },
    "colab": {
      "provenance": []
    }
  },
  "nbformat_minor": 0,
  "nbformat": 4,
  "cells": [
    {
      "cell_type": "code",
      "source": [
        "import polars as pl\n",
        "import requests\n",
        "import time\n",
        "import random\n",
        "import logging\n",
        "from typing import Dict, Any, List, Optional\n",
        "from datetime import datetime"
      ],
      "metadata": {
        "trusted": true,
        "execution": {
          "iopub.status.busy": "2025-09-08T18:58:18.784164Z",
          "iopub.execute_input": "2025-09-08T18:58:18.784522Z",
          "iopub.status.idle": "2025-09-08T18:58:18.791005Z",
          "shell.execute_reply.started": "2025-09-08T18:58:18.784498Z",
          "shell.execute_reply": "2025-09-08T18:58:18.789867Z"
        },
        "id": "f3I_TILwi9LB"
      },
      "outputs": [],
      "execution_count": 7
    },
    {
      "cell_type": "code",
      "source": [],
      "metadata": {
        "trusted": true,
        "id": "1PGXNJcMi9LE"
      },
      "outputs": [],
      "execution_count": 7
    },
    {
      "cell_type": "code",
      "source": [
        "# import requests\n",
        "\n",
        "# def get_vacancies_api():\n",
        "#     url = \"https://api.hh.ru/vacancies\"\n",
        "\n",
        "#     params = {\n",
        "#         'text': 'IT',\n",
        "#         'area': 1,\n",
        "#         'per_page': 100,\n",
        "#         'page': 0\n",
        "#     }\n",
        "\n",
        "#     headers = {\n",
        "#         'User-Agent': 'Mozilla/5.0 (Windows NT 10.0; Win64; x64) AppleWebKit/537.36'\n",
        "#     }\n",
        "\n",
        "#     try:\n",
        "#         response = requests.get(url, params=params, headers=headers)\n",
        "#         response.raise_for_status()\n",
        "\n",
        "#         data = response.json()\n",
        "\n",
        "#         results = []\n",
        "#         for item in data['items']:\n",
        "#             results.append({\n",
        "#                 'id': item['id'],\n",
        "#                 'title': item['name'],\n",
        "#                 'company': item['employer']['name'],\n",
        "#                 'salary_from': item['salary']['from'] if item['salary'] else None,\n",
        "#                 'salary_to': item['salary']['to'] if item['salary'] else None,\n",
        "#                 'salary_currency': item['salary']['currency'] if item['salary'] else None,\n",
        "#                 'url': item['alternate_url']\n",
        "#             })\n",
        "\n",
        "#         return results\n",
        "\n",
        "#     except requests.RequestException as e:\n",
        "#         print(f\"Ошибка при запросе: {e}\")\n",
        "#         return []\n",
        "\n",
        "# vacancies = get_vacancies_api()\n",
        "# vacancies\n"
      ],
      "metadata": {
        "trusted": true,
        "execution": {
          "iopub.status.busy": "2025-09-08T18:58:18.797250Z",
          "iopub.execute_input": "2025-09-08T18:58:18.797651Z",
          "iopub.status.idle": "2025-09-08T18:58:18.811678Z",
          "shell.execute_reply.started": "2025-09-08T18:58:18.797585Z",
          "shell.execute_reply": "2025-09-08T18:58:18.810382Z"
        },
        "id": "Ak5NJmaQi9LF"
      },
      "outputs": [],
      "execution_count": 8
    },
    {
      "cell_type": "markdown",
      "source": [
        "https://shakhbanov.org/kak-ispolzovat-api-hhru-dlya-parsinga-sbora-vakansiy-v-oblasti-data-science/?ysclid=mf5snc647t874403230\n"
      ],
      "metadata": {
        "id": "hD_GzhmUi9LG"
      }
    },
    {
      "cell_type": "code",
      "source": [
        "# Функция для получения вакансий\n",
        "def get_vacancies(city, vacancy, page):\n",
        "    url = 'https://api.hh.ru/vacancies'\n",
        "    params = {\n",
        "        'text': f\"{vacancy}\",\n",
        "        'per_page': 100,\n",
        "        'page': page\n",
        "    }\n",
        "    headers = {\n",
        "        'User-Agent': 'Mozilla/5.0 (Windows NT 10.0; Win64; x64) AppleWebKit/537.36'\n",
        "    }\n",
        "\n",
        "    response = requests.get(url, params=params, headers=headers)\n",
        "    response.raise_for_status()\n",
        "    return response.json()"
      ],
      "metadata": {
        "trusted": true,
        "execution": {
          "iopub.status.busy": "2025-09-08T18:58:18.813308Z",
          "iopub.execute_input": "2025-09-08T18:58:18.813581Z",
          "iopub.status.idle": "2025-09-08T18:58:18.828689Z",
          "shell.execute_reply.started": "2025-09-08T18:58:18.813562Z",
          "shell.execute_reply": "2025-09-08T18:58:18.827476Z"
        },
        "id": "hIzFbhm0i9LH"
      },
      "outputs": [],
      "execution_count": 9
    },
    {
      "cell_type": "code",
      "source": [
        "# Функция для получения навыков вакансии\n",
        "def get_vacancy_skills(vacancy_id: str) -> List[str]:\n",
        "    \"\"\"Получает навыки для конкретной вакансии\"\"\"\n",
        "    try:\n",
        "        url = f\"https://api.hh.ru/vacancies/{vacancy_id}\"\n",
        "        response = requests.get(url)\n",
        "        response.raise_for_status()\n",
        "        data = response.json()\n",
        "\n",
        "        # Извлекаем названия навыков\n",
        "        skills = data.get('key_skills', [])\n",
        "        if skills and isinstance(skills, list):\n",
        "            # Если навыки представлены как список словарей\n",
        "            if isinstance(skills[0], dict) and 'name' in skills[0]:\n",
        "                return [skill['name'] for skill in skills]\n",
        "            # Если навыки представлены как список строк\n",
        "            elif isinstance(skills[0], str):\n",
        "                return skills\n",
        "        return []\n",
        "    except Exception as e:\n",
        "        logging.error(f\"Ошибка при получении навыков для вакансии {vacancy_id}: {e}\")\n",
        "        return []"
      ],
      "metadata": {
        "trusted": true,
        "execution": {
          "iopub.status.busy": "2025-09-08T18:58:18.830561Z",
          "iopub.execute_input": "2025-09-08T18:58:18.831006Z",
          "iopub.status.idle": "2025-09-08T18:58:18.848068Z",
          "shell.execute_reply.started": "2025-09-08T18:58:18.830979Z",
          "shell.execute_reply": "2025-09-08T18:58:18.846919Z"
        },
        "id": "TK-bD52zi9LI"
      },
      "outputs": [],
      "execution_count": 10
    },
    {
      "cell_type": "code",
      "source": [
        "# Функция для получения отрасли компании\n",
        "def get_industry(company_id):\n",
        "    # Получение отрасли компании по ее идентификатору\n",
        "    if company_id is None:\n",
        "        return 'Unknown'\n",
        "\n",
        "    url = f'https://api.hh.ru/employers/{company_id}'\n",
        "    response = requests.get(url)\n",
        "    if response.status_code == 404:\n",
        "        return 'Unknown'\n",
        "    response.raise_for_status()\n",
        "    data = response.json()\n",
        "\n",
        "    if 'industries' in data and len(data['industries']) > 0:\n",
        "        return data['industries'][0].get('name')\n",
        "    return 'Unknown'"
      ],
      "metadata": {
        "trusted": true,
        "execution": {
          "iopub.status.busy": "2025-09-08T18:58:18.849115Z",
          "iopub.execute_input": "2025-09-08T18:58:18.849420Z",
          "iopub.status.idle": "2025-09-08T18:58:18.878996Z",
          "shell.execute_reply.started": "2025-09-08T18:58:18.849391Z",
          "shell.execute_reply": "2025-09-08T18:58:18.877743Z"
        },
        "id": "yTewdfygi9LI"
      },
      "outputs": [],
      "execution_count": 11
    },
    {
      "cell_type": "code",
      "source": [
        "# Функция для парсинга вакансий\n",
        "# Функция для парсинга вакансий\n",
        "def parse_vacancies_incremental(city_id: int = 1, city: str = \"Москва\") -> pl.DataFrame:\n",
        "    \"\"\"Версия с постепенным наращиванием DataFrame\"\"\"\n",
        "    vacancies = [\n",
        "        'Computer vision',\n",
        "        'Data Analyst', 'Data Engineer', 'Data Science', 'Data Scientist', 'ML Engineer',\n",
        "        'MLOps инженер', 'AI',\n",
        "        'Product Manager', 'Python Developer', 'Web Analyst', 'Аналитик данных',\n",
        "        'Бизнес-аналитик', 'Системный аналитик', 'Финансовый аналитик', 'ML',\n",
        "        'Deep Learning', 'NLP', 'LLM', \"Project Manager\", 'Product Owner','Time series',\n",
        "    ]\n",
        "\n",
        "    df_final = None\n",
        "    cities = {\n",
        "        'Москва': 1,\n",
        "    }\n",
        "    for city, city_id in cities.items():\n",
        "        for vacancy in vacancies:\n",
        "            page = 0\n",
        "            vacancy_data = []\n",
        "            logging.info(f\"Парсинг вакансии: {vacancy}\")\n",
        "            print(f\"Парсинг вакансии: {vacancy}\")\n",
        "\n",
        "            while True:\n",
        "                try:\n",
        "                    data = get_vacancies(city_id, vacancy, page)\n",
        "                    if page==0:\n",
        "                        print(f\"Число страниц по запросу {data.get('pages')}\")\n",
        "                    if not data.get('items'):\n",
        "                        break\n",
        "\n",
        "                    for item in data['items']:\n",
        "                        salary_data = item.get('salary')\n",
        "                        if salary_data is None:\n",
        "                            salary_from = salary_to = salary_currency = None\n",
        "                            salary_str = \"з/п не указана\"\n",
        "                        else:\n",
        "                            salary_from = salary_data.get('from')\n",
        "                            salary_to = salary_data.get('to')\n",
        "                            salary_currency = salary_data.get('currency')\n",
        "                            salary_str = f\"{salary_from or ''}-{salary_to or ''} {salary_currency or ''}\"\n",
        "\n",
        "                        skills_list = get_vacancy_skills(item['id'])\n",
        "                        industry = get_industry(item['employer'].get('id'))\n",
        "\n",
        "                        # Извлекаем данные по формату работы\n",
        "                        work_format = item.get('work_format', [])\n",
        "                        work_format_ids = [fmt['id'] for fmt in work_format]\n",
        "                        work_format_names = [fmt['name'] for fmt in work_format]\n",
        "\n",
        "                        record = {\n",
        "                            'vacancy_id': item['id'],\n",
        "                            'title': item['name'],\n",
        "                            'loc': item['area']['name'],\n",
        "                            'requirement': item['snippet'].get('requirement', ''),\n",
        "                            'responsibility': item['snippet'].get('responsibility', ''),\n",
        "                            'work_format_ids': work_format_ids,\n",
        "                            'work_format_names': work_format_names,\n",
        "                            'skills': skills_list,\n",
        "                            'company': item['employer']['name'],\n",
        "                            'industry': industry,\n",
        "                            'experience': item['experience'].get('name', 'Не указан'),\n",
        "                            'salary_from': salary_from,\n",
        "                            'salary_to': salary_to,\n",
        "                            'salary_currency': salary_currency,\n",
        "                            'salary_str': salary_str,\n",
        "                            'url': item['alternate_url'],\n",
        "                            'published_at': item.get('published_at'),\n",
        "                            'source_vacancy': vacancy\n",
        "                        }\n",
        "\n",
        "                        vacancy_data.append(record)\n",
        "\n",
        "                    if page >= data.get('pages'):\n",
        "                        print(f\"Страницы {page} из {data.get('pages')} закончились\")\n",
        "                        break\n",
        "\n",
        "                    page += 1\n",
        "\n",
        "                except requests.HTTPError as e:\n",
        "                    logging.error(f\"Ошибка при обработке вакансии {vacancy}, страница {page}: {e}\")\n",
        "                    print(f\"Ошибка при обработке вакансии {vacancy}, страница {page}: {e}\")\n",
        "                    break\n",
        "            time.sleep(random.uniform(3, 6))\n",
        "            # Создаем DataFrame для текущей вакансии и объединяем с основным\n",
        "            if vacancy_data:\n",
        "                df_current = pl.DataFrame(vacancy_data)\n",
        "\n",
        "                if df_final is None:\n",
        "                    df_final = df_current\n",
        "                else:\n",
        "                    df_final = pl.concat([df_final, df_current])\n",
        "\n",
        "    # Обрабатываем финальный DataFrame\n",
        "    if df_final is not None:\n",
        "        df_final = df_final.with_columns([\n",
        "            pl.col('published_at').str.strptime(pl.Datetime, format='%Y-%m-%dT%H:%M:%S%z'),\n",
        "            pl.col('salary_from').cast(pl.Int64),\n",
        "            pl.col('salary_to').cast(pl.Int64),\n",
        "        ]).unique(subset=['vacancy_id'])\n",
        "\n",
        "        logging.info(f\"Спаршено {len(df_final)} уникальных вакансий\")\n",
        "        print(f\"Спаршено {len(df_final)} уникальных вакансий\")\n",
        "        return df_final\n",
        "    else:\n",
        "        return pl.DataFrame()"
      ],
      "metadata": {
        "trusted": true,
        "execution": {
          "iopub.status.busy": "2025-09-08T18:58:18.919010Z",
          "iopub.execute_input": "2025-09-08T18:58:18.919348Z",
          "iopub.status.idle": "2025-09-08T18:58:18.938413Z",
          "shell.execute_reply.started": "2025-09-08T18:58:18.919326Z",
          "shell.execute_reply": "2025-09-08T18:58:18.936993Z"
        },
        "id": "JcH-hXBXi9LJ"
      },
      "outputs": [],
      "execution_count": 12
    },
    {
      "cell_type": "code",
      "source": [
        "df = parse_vacancies_incremental()\n",
        "df = df.with_columns(pl.col('vacancy_id').cast(pl.Int64).alias('vacancy_id'))"
      ],
      "metadata": {
        "trusted": true,
        "execution": {
          "iopub.status.busy": "2025-09-08T18:58:18.940642Z",
          "iopub.execute_input": "2025-09-08T18:58:18.941064Z"
        },
        "colab": {
          "base_uri": "https://localhost:8080/"
        },
        "id": "HzceBHE2i9LJ",
        "outputId": "d6ec3d80-49a1-4ba7-f12a-a2ba332f2010"
      },
      "outputs": [
        {
          "output_type": "stream",
          "name": "stdout",
          "text": [
            "Парсинг вакансии: Computer vision\n",
            "Число страниц по запросу 3\n"
          ]
        }
      ],
      "execution_count": null
    },
    {
      "cell_type": "code",
      "source": [
        "df_unique = df.unique(subset=[\"vacancy_id\"], keep=\"first\")\n",
        "df"
      ],
      "metadata": {
        "trusted": true,
        "id": "-z5YUC3ui9LK"
      },
      "outputs": [],
      "execution_count": null
    },
    {
      "cell_type": "code",
      "source": [],
      "metadata": {
        "id": "84veYAmJNRhC"
      },
      "execution_count": null,
      "outputs": []
    },
    {
      "cell_type": "code",
      "source": [],
      "metadata": {
        "id": "DvN9Rd4ZluUd"
      },
      "execution_count": null,
      "outputs": []
    },
    {
      "cell_type": "code",
      "source": [
        "df"
      ],
      "metadata": {
        "trusted": true,
        "id": "dJW-IY54i9LK"
      },
      "outputs": [],
      "execution_count": null
    },
    {
      "cell_type": "code",
      "source": [
        "df.write_parquet(\"vacancy.parquet\")"
      ],
      "metadata": {
        "trusted": true,
        "id": "bo2iV7zNi9LL"
      },
      "outputs": [],
      "execution_count": null
    },
    {
      "cell_type": "code",
      "source": [
        "df = pl.read_parquet(\"vacancy.parquet\")"
      ],
      "metadata": {
        "trusted": true,
        "id": "xieTUd0yi9LL"
      },
      "outputs": [],
      "execution_count": null
    },
    {
      "cell_type": "code",
      "source": [
        "from google.colab import drive\n",
        "drive.mount('/content/drive')\n",
        "\n",
        "# Сохранить на Google Drive\n",
        "df.write_parquet('/content/drive/MyDrive/vacancy.parquet')"
      ],
      "metadata": {
        "id": "ltQvwOtOVYp6"
      },
      "execution_count": null,
      "outputs": []
    },
    {
      "cell_type": "code",
      "source": [
        "# Если keywords содержит строки типа \"Python, ML, SQL\"\n",
        "# df = df.with_columns(\n",
        "#     pl.col('skills').str.split(',')  # Разделяем по запятым\n",
        "# )\n",
        "\n",
        "# Теперь можно использовать explode\n",
        "keyword_counts = df.explode('skills').group_by('skills').count()"
      ],
      "metadata": {
        "trusted": true,
        "id": "WcJ7tu-9i9LL"
      },
      "outputs": [],
      "execution_count": null
    },
    {
      "cell_type": "code",
      "source": [
        "df"
      ],
      "metadata": {
        "id": "U_ffqUVmTWbI"
      },
      "execution_count": null,
      "outputs": []
    },
    {
      "cell_type": "code",
      "source": [
        "keyword_counts.sort('count',descending=True)[0:10]"
      ],
      "metadata": {
        "trusted": true,
        "id": "z_fHqOa9i9LL"
      },
      "outputs": [],
      "execution_count": null
    }
  ]
}